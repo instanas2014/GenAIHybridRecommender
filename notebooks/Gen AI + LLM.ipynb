{
 "cells": [
  {
   "cell_type": "code",
   "execution_count": 33,
   "id": "5436aff5-eb4e-4de9-92df-1fbdb0e2252b",
   "metadata": {},
   "outputs": [
    {
     "name": "stdout",
     "output_type": "stream",
     "text": [
      "The autoreload extension is already loaded. To reload it, use:\n",
      "  %reload_ext autoreload\n"
     ]
    }
   ],
   "source": [
    "from typing import List, Dict, Tuple\n",
    "import warnings\n",
    "import os\n",
    "import HybridPersonalizationSystem as HPS\n",
    "from sklearn.preprocessing import LabelEncoder\n",
    "import DatasetHelper as dsh\n",
    "\n",
    "warnings.filterwarnings('ignore')\n",
    "%load_ext autoreload\n",
    "%autoreload 2"
   ]
  },
  {
   "cell_type": "code",
   "execution_count": 34,
   "id": "75807503-ecaf-44f9-aefa-c1acc574f90e",
   "metadata": {},
   "outputs": [
    {
     "name": "stdout",
     "output_type": "stream",
     "text": [
      "Loading MovieLens small dataset from local files...\n",
      "Loaded 100836 ratings and 9742 movies\n",
      "Users: 610\n",
      "Movies: 9724\n",
      "Rating range: 0.5 - 5.0\n",
      "Sampling data: 1000 users, 500 movies, max 5000 ratings\n",
      "Sampled data: 5000 ratings, 500 movies\n"
     ]
    }
   ],
   "source": [
    "#def main():\n",
    "# Create sample data\n",
    "ratings_df, movies_df = dsh.get_movielens_data(size='small', sample=True) #\n",
    "\n",
    "# Initialize system\n",
    "system = HPS.HybridPersonalizationSystem()\n",
    "\n",
    "#if __name__ == \"__main__\":\n",
    "#    main()"
   ]
  },
  {
   "cell_type": "code",
   "execution_count": 53,
   "id": "6151a521-5019-41ee-b39d-9a9291028595",
   "metadata": {},
   "outputs": [
    {
     "name": "stdout",
     "output_type": "stream",
     "text": [
      "Preparing data...\n",
      "Training deep learning model...\n",
      "Epoch 10/20, Loss: 0.0359\n",
      "Epoch 20/20, Loss: 0.0318\n",
      "Saving model to ./movie_recommender_model...\n",
      "✓ Deep learning model saved\n",
      "✓ Encoders saved\n",
      "✓ Movie features saved\n",
      "✓ Model metadata saved\n",
      "✓ User profiles saved\n",
      "Model successfully saved to ./movie_recommender_model\n",
      "✓ Manifest created\n"
     ]
    }
   ],
   "source": [
    "# Prepare data\n",
    "ratings_df = system.prepare_data(ratings_df, movies_df)\n",
    "\n",
    "# Train deep learning model\n",
    "system.train_deep_model(ratings_df, epochs=20)\n",
    "# Save the model\n",
    "system.save_model(save_dir=\"./movie_recommender_model\")"
   ]
  },
  {
   "cell_type": "code",
   "execution_count": 54,
   "id": "35cf1d8f-9372-46bc-a958-d12e2b1f9161",
   "metadata": {},
   "outputs": [
    {
     "name": "stdout",
     "output_type": "stream",
     "text": [
      "Loading model from ./movie_recommender_model...\n",
      "✓ Model metadata loaded\n",
      "✓ Encoders loaded\n",
      "✓ Movie features loaded\n",
      "✓ User profiles loaded\n",
      "✓ Deep learning model loaded and initialized\n",
      "Model successfully loaded from ./movie_recommender_model\n"
     ]
    }
   ],
   "source": [
    "def load_recommendation_system():\n",
    "    return HPS.HybridPersonalizationSystem.load_model(\"./movie_recommender_model\")\n",
    "\n",
    "system = load_recommendation_system()"
   ]
  },
  {
   "cell_type": "code",
   "execution_count": 57,
   "id": "3dc1b013-8951-4c05-86d2-fd02db5c783f",
   "metadata": {},
   "outputs": [
    {
     "name": "stdout",
     "output_type": "stream",
     "text": [
      "\n",
      "Generating recommendations for user 1...\n",
      "Deep learning top picks: [216, 260, 168, 520, 551]\n",
      "LLM Reasoning: Based on the user's recent activity in Action and Sci-Fi genres, 'Star Wars: Episode IV - A New Hope' has the highest score as it aligns well with their preferences. 'First Knight' also receives a high score due to its Action genre. 'Billy Madison' and 'Robin Hood: Men in Tights' have lower scores as they are Comedy genres which are not in the user's recent activity. 'Nightmare Before Christmas' has the lowest score as it does not match the user's genre preferences.\n",
      "\n",
      "Final Recommendations:\n",
      "1. Star Wars: Episode IV - A New Hope (1977) (Genres: Action, Adventure, Sci-Fi)\n",
      " Rating: 4.519\n",
      "   Deep Score: 0.700, Adjusted: 0.900, Final: 0.780\n",
      "2. First Knight (1995) (Genres: Action, Drama, Romance)\n",
      " Rating: 3.944\n",
      "   Deep Score: 0.600, Adjusted: 0.800, Final: 0.680\n",
      "3. Billy Madison (1995) (Genres: Comedy)\n",
      " Rating: 3.438\n",
      "   Deep Score: 0.800, Adjusted: 0.200, Final: 0.560\n",
      "4. Robin Hood: Men in Tights (1993) (Genres: Comedy)\n",
      " Rating: 3.450\n",
      "   Deep Score: 0.500, Adjusted: 0.300, Final: 0.420\n",
      "5. Nightmare Before Christmas, The (1993) (Genres: Animation, Children, Fantasy, Musical)\n",
      " Rating: 3.636\n",
      "   Deep Score: 0.400, Adjusted: 0.100, Final: 0.280\n",
      "\n",
      "Generated 5 personalized recommendations successfully!\n"
     ]
    }
   ],
   "source": [
    "test_user = 1\n",
    "user_context = {\n",
    "    'recent_activity': ['Action', 'Sci-Fi'],\n",
    "    'time_context': 'evening',\n",
    "    'session_info': {'device': 'mobile', 'duration': '15min'}\n",
    "}\n",
    "\n",
    "recommendations = system.get_personalized_recommendations(\n",
    "    test_user, \n",
    "    context=user_context, \n",
    "    top_k=5\n",
    ")\n",
    "\n",
    "print(f\"\\nGenerated {len(recommendations)} personalized recommendations successfully!\")"
   ]
  },
  {
   "cell_type": "code",
   "execution_count": 56,
   "id": "abff2c60-1846-449c-bb7a-6ef5ad404b65",
   "metadata": {},
   "outputs": [
    {
     "data": {
      "text/plain": [
       "[{'movie_id': 260,\n",
       "  'title': 'Star Wars: Episode IV - A New Hope (1977)',\n",
       "  'genres': ['Action', 'Adventure', 'Sci-Fi'],\n",
       "  'rating': 4.518518518518518,\n",
       "  'deep_score': 0.7000000000000001,\n",
       "  'adjusted_score': 0.8,\n",
       "  'final_score': 0.7400000000000001},\n",
       " {'movie_id': 168,\n",
       "  'title': 'First Knight (1995)',\n",
       "  'genres': ['Action', 'Drama', 'Romance'],\n",
       "  'rating': 3.9444444444444446,\n",
       "  'deep_score': 0.6000000000000001,\n",
       "  'adjusted_score': 0.6,\n",
       "  'final_score': 0.6000000000000001},\n",
       " {'movie_id': 216,\n",
       "  'title': 'Billy Madison (1995)',\n",
       "  'genres': ['Comedy'],\n",
       "  'rating': 3.4375,\n",
       "  'deep_score': 0.8,\n",
       "  'adjusted_score': 0.2,\n",
       "  'final_score': 0.56},\n",
       " {'movie_id': 520,\n",
       "  'title': 'Robin Hood: Men in Tights (1993)',\n",
       "  'genres': ['Comedy'],\n",
       "  'rating': 3.45,\n",
       "  'deep_score': 0.5,\n",
       "  'adjusted_score': 0.3,\n",
       "  'final_score': 0.42},\n",
       " {'movie_id': 551,\n",
       "  'title': 'Nightmare Before Christmas, The (1993)',\n",
       "  'genres': ['Animation', 'Children', 'Fantasy', 'Musical'],\n",
       "  'rating': 3.6363636363636362,\n",
       "  'deep_score': 0.4,\n",
       "  'adjusted_score': 0.1,\n",
       "  'final_score': 0.28}]"
      ]
     },
     "execution_count": 56,
     "metadata": {},
     "output_type": "execute_result"
    }
   ],
   "source": [
    "recommendations"
   ]
  },
  {
   "cell_type": "code",
   "execution_count": 23,
   "id": "102aa038-bbc0-48d8-be45-c092685e4ef0",
   "metadata": {},
   "outputs": [
    {
     "data": {
      "text/html": [
       "<div>\n",
       "<style scoped>\n",
       "    .dataframe tbody tr th:only-of-type {\n",
       "        vertical-align: middle;\n",
       "    }\n",
       "\n",
       "    .dataframe tbody tr th {\n",
       "        vertical-align: top;\n",
       "    }\n",
       "\n",
       "    .dataframe thead th {\n",
       "        text-align: right;\n",
       "    }\n",
       "</style>\n",
       "<table border=\"1\" class=\"dataframe\">\n",
       "  <thead>\n",
       "    <tr style=\"text-align: right;\">\n",
       "      <th></th>\n",
       "      <th>userId</th>\n",
       "      <th>movieId</th>\n",
       "      <th>rating</th>\n",
       "      <th>timestamp</th>\n",
       "      <th>user_id_encoded</th>\n",
       "      <th>item_id_encoded</th>\n",
       "      <th>rating_normalized</th>\n",
       "    </tr>\n",
       "  </thead>\n",
       "  <tbody>\n",
       "    <tr>\n",
       "      <th>0</th>\n",
       "      <td>1</td>\n",
       "      <td>1</td>\n",
       "      <td>4.0</td>\n",
       "      <td>964982703</td>\n",
       "      <td>0</td>\n",
       "      <td>0</td>\n",
       "      <td>0.8</td>\n",
       "    </tr>\n",
       "    <tr>\n",
       "      <th>1</th>\n",
       "      <td>1</td>\n",
       "      <td>3</td>\n",
       "      <td>4.0</td>\n",
       "      <td>964981247</td>\n",
       "      <td>0</td>\n",
       "      <td>2</td>\n",
       "      <td>0.8</td>\n",
       "    </tr>\n",
       "    <tr>\n",
       "      <th>2</th>\n",
       "      <td>1</td>\n",
       "      <td>6</td>\n",
       "      <td>4.0</td>\n",
       "      <td>964982224</td>\n",
       "      <td>0</td>\n",
       "      <td>4</td>\n",
       "      <td>0.8</td>\n",
       "    </tr>\n",
       "    <tr>\n",
       "      <th>3</th>\n",
       "      <td>1</td>\n",
       "      <td>47</td>\n",
       "      <td>5.0</td>\n",
       "      <td>964983815</td>\n",
       "      <td>0</td>\n",
       "      <td>18</td>\n",
       "      <td>1.0</td>\n",
       "    </tr>\n",
       "    <tr>\n",
       "      <th>4</th>\n",
       "      <td>1</td>\n",
       "      <td>50</td>\n",
       "      <td>5.0</td>\n",
       "      <td>964982931</td>\n",
       "      <td>0</td>\n",
       "      <td>20</td>\n",
       "      <td>1.0</td>\n",
       "    </tr>\n",
       "    <tr>\n",
       "      <th>...</th>\n",
       "      <td>...</td>\n",
       "      <td>...</td>\n",
       "      <td>...</td>\n",
       "      <td>...</td>\n",
       "      <td>...</td>\n",
       "      <td>...</td>\n",
       "      <td>...</td>\n",
       "    </tr>\n",
       "    <tr>\n",
       "      <th>10511</th>\n",
       "      <td>68</td>\n",
       "      <td>919</td>\n",
       "      <td>3.0</td>\n",
       "      <td>1158531038</td>\n",
       "      <td>66</td>\n",
       "      <td>134</td>\n",
       "      <td>0.6</td>\n",
       "    </tr>\n",
       "    <tr>\n",
       "      <th>10513</th>\n",
       "      <td>68</td>\n",
       "      <td>923</td>\n",
       "      <td>3.0</td>\n",
       "      <td>1252728105</td>\n",
       "      <td>66</td>\n",
       "      <td>135</td>\n",
       "      <td>0.6</td>\n",
       "    </tr>\n",
       "    <tr>\n",
       "      <th>10514</th>\n",
       "      <td>68</td>\n",
       "      <td>924</td>\n",
       "      <td>1.5</td>\n",
       "      <td>1158532482</td>\n",
       "      <td>66</td>\n",
       "      <td>136</td>\n",
       "      <td>0.3</td>\n",
       "    </tr>\n",
       "    <tr>\n",
       "      <th>10516</th>\n",
       "      <td>68</td>\n",
       "      <td>953</td>\n",
       "      <td>2.5</td>\n",
       "      <td>1180916203</td>\n",
       "      <td>66</td>\n",
       "      <td>137</td>\n",
       "      <td>0.5</td>\n",
       "    </tr>\n",
       "    <tr>\n",
       "      <th>10523</th>\n",
       "      <td>68</td>\n",
       "      <td>1028</td>\n",
       "      <td>2.5</td>\n",
       "      <td>1158533303</td>\n",
       "      <td>66</td>\n",
       "      <td>138</td>\n",
       "      <td>0.5</td>\n",
       "    </tr>\n",
       "  </tbody>\n",
       "</table>\n",
       "<p>5000 rows × 7 columns</p>\n",
       "</div>"
      ],
      "text/plain": [
       "       userId  movieId  rating   timestamp  user_id_encoded  item_id_encoded  \\\n",
       "0           1        1     4.0   964982703                0                0   \n",
       "1           1        3     4.0   964981247                0                2   \n",
       "2           1        6     4.0   964982224                0                4   \n",
       "3           1       47     5.0   964983815                0               18   \n",
       "4           1       50     5.0   964982931                0               20   \n",
       "...       ...      ...     ...         ...              ...              ...   \n",
       "10511      68      919     3.0  1158531038               66              134   \n",
       "10513      68      923     3.0  1252728105               66              135   \n",
       "10514      68      924     1.5  1158532482               66              136   \n",
       "10516      68      953     2.5  1180916203               66              137   \n",
       "10523      68     1028     2.5  1158533303               66              138   \n",
       "\n",
       "       rating_normalized  \n",
       "0                    0.8  \n",
       "1                    0.8  \n",
       "2                    0.8  \n",
       "3                    1.0  \n",
       "4                    1.0  \n",
       "...                  ...  \n",
       "10511                0.6  \n",
       "10513                0.6  \n",
       "10514                0.3  \n",
       "10516                0.5  \n",
       "10523                0.5  \n",
       "\n",
       "[5000 rows x 7 columns]"
      ]
     },
     "execution_count": 23,
     "metadata": {},
     "output_type": "execute_result"
    }
   ],
   "source": [
    "ratings_df"
   ]
  },
  {
   "cell_type": "code",
   "execution_count": 44,
   "id": "c60d02dc-d984-40f8-acfa-c14581d89181",
   "metadata": {},
   "outputs": [
    {
     "name": "stdout",
     "output_type": "stream",
     "text": [
      "3.875\n"
     ]
    }
   ],
   "source": [
    "print(ratings_df[ratings_df.movieId==1].groupby('movieId')['rating'].mean().values[0])"
   ]
  },
  {
   "cell_type": "code",
   "execution_count": null,
   "id": "dd6becdb-6529-480e-a858-1a4ea332cb87",
   "metadata": {},
   "outputs": [],
   "source": []
  }
 ],
 "metadata": {
  "kernelspec": {
   "display_name": "Python 3 (ipykernel)",
   "language": "python",
   "name": "python3"
  },
  "language_info": {
   "codemirror_mode": {
    "name": "ipython",
    "version": 3
   },
   "file_extension": ".py",
   "mimetype": "text/x-python",
   "name": "python",
   "nbconvert_exporter": "python",
   "pygments_lexer": "ipython3",
   "version": "3.12.10"
  }
 },
 "nbformat": 4,
 "nbformat_minor": 5
}
